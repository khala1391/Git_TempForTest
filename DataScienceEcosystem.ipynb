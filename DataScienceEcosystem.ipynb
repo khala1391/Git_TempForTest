{
 "cells": [
  {
   "cell_type": "markdown",
   "id": "944cd165",
   "metadata": {},
   "source": [
    "# Data Science Tools and Ecosystem"
   ]
  },
  {
   "cell_type": "markdown",
   "id": "7a8105f2",
   "metadata": {},
   "source": [
    "In this notebook, Data Science Tools and Ecosystem are summarized."
   ]
  },
  {
   "cell_type": "markdown",
   "id": "b26e0675",
   "metadata": {},
   "source": [
    "Some of the popular languages that Data Scientists use are:\n",
    "1. Python\n",
    "2. R\n",
    "3. SQL\n",
    "4. Julia\n",
    "5. Java"
   ]
  },
  {
   "cell_type": "markdown",
   "id": "f750bc4d",
   "metadata": {},
   "source": [
    "Some of the commonly used libraries used by Data Scientists include:\n",
    "1. NumPy\n",
    "2. Pandas\n",
    "3. Scikit-learn\n",
    "4. TensorFlow\n",
    "5. Matplotlib"
   ]
  },
  {
   "cell_type": "markdown",
   "id": "9b86549d",
   "metadata": {},
   "source": [
    "| Data Science Tools          |\n",
    "|-----------------------------|\n",
    "| Jupyter Notebook            |\n",
    "| RStudio                     |\n",
    "| Apache Zeppelin             |"
   ]
  },
  {
   "cell_type": "markdown",
   "id": "5ca48581",
   "metadata": {},
   "source": [
    "### Below are a few examples of evaluating arithmetic expressions in Python."
   ]
  },
  {
   "cell_type": "code",
   "execution_count": null,
   "id": "b579525f",
   "metadata": {},
   "outputs": [],
   "source": [
    "# This is a simple arithmetic expression to multiply then add integers\n",
    "(3 * 4) + 5"
   ]
  },
  {
   "cell_type": "code",
   "execution_count": null,
   "id": "cf7bef65",
   "metadata": {},
   "outputs": [],
   "source": [
    "# This will convert 200 minutes to hours by dividing by 60\n",
    "200 / 60"
   ]
  },
  {
   "cell_type": "markdown",
   "id": "75e6a64d",
   "metadata": {},
   "source": [
    "**Objectives:**\n",
    "- List popular languages for Data Science\n",
    "- List commonly used libraries in Data Science\n",
    "- Introduce tools used in Data Science\n",
    "- Perform basic arithmetic operations in Python\n",
    "- Convert units (e.g., minutes to hours)"
   ]
  },
  {
   "cell_type": "markdown",
   "id": "2002edd0",
   "metadata": {},
   "source": [
    "## Author\n",
    "[Your Name]"
   ]
  }
 ],
 "metadata": {},
 "nbformat": 4,
 "nbformat_minor": 5
}